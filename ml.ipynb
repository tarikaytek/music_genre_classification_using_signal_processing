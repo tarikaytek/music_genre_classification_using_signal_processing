{
 "cells": [
  {
   "cell_type": "code",
   "execution_count": 1,
   "outputs": [],
   "source": [
    "from matplotlib import pyplot as plt\n",
    "from sklearn.linear_model import SGDClassifier, LogisticRegression\n",
    "from sklearn.tree import DecisionTreeClassifier\n",
    "from xgboost import XGBClassifier, XGBRFClassifier\n",
    "from sklearn.discriminant_analysis import LinearDiscriminantAnalysis\n",
    "from sklearn.svm import LinearSVC\n",
    "from sklearn.ensemble import GradientBoostingClassifier, AdaBoostClassifier\n",
    "from sklearn.model_selection import KFold, cross_validate\n",
    "from sklearn.linear_model import LogisticRegression\n",
    "from sklearn.neighbors import KNeighborsClassifier\n",
    "from sklearn.svm import SVC\n",
    "from sklearn.ensemble import RandomForestClassifier\n",
    "from sklearn.naive_bayes import GaussianNB\n",
    "from xgboost import XGBClassifier\n",
    "import numpy as np\n",
    "import pandas as pd\n",
    "import seaborn as sns\n",
    "from tabulate import tabulate\n",
    "from sklearn.metrics import confusion_matrix, accuracy_score, roc_auc_score, roc_curve\n",
    "from sklearn import preprocessing, model_selection, metrics\n",
    "from sklearn.model_selection import train_test_split, cross_val_score\n",
    "from sklearn.exceptions import ConvergenceWarning\n",
    "\n",
    "import warnings\n",
    "with warnings.catch_warnings():\n",
    "    warnings.filterwarnings(\"ignore\", category=ConvergenceWarning)"
   ],
   "metadata": {
    "collapsed": false,
    "pycharm": {
     "name": "#%%\n"
    }
   }
  },
  {
   "cell_type": "code",
   "execution_count": 7,
   "outputs": [
    {
     "data": {
      "text/plain": "pandas.core.frame.DataFrame"
     },
     "execution_count": 7,
     "metadata": {},
     "output_type": "execute_result"
    }
   ],
   "source": [
    "general_path = 'C:\\\\20+\\\\araproje\\\\features_6_sec'\n",
    "#data = pd.read_csv(f'{general_path}\\\\features_no_cluster.csv')\n",
    "data = pd.read_csv(f'C:\\\\Users\\\\tarik\\\\PycharmProjects\\\\pythonProject2\\\\deneme_2.csv')\n",
    "\n",
    "data.head()"
   ],
   "metadata": {
    "collapsed": false,
    "pycharm": {
     "name": "#%%\n"
    }
   }
  },
  {
   "cell_type": "code",
   "execution_count": 3,
   "outputs": [],
   "source": [
    "y = data['label'] # genre variable.\n",
    "X = data.loc[:, data.columns != 'label'] #select all columns but not the labels\n",
    "label_encoder = preprocessing.LabelEncoder()\n",
    "y = label_encoder.fit_transform(y)\n",
    "#### NORMALIZE X ####\n",
    "\n",
    "# Normalize so everything is on the same scale.\n",
    "\n",
    "cols = X.columns\n",
    "min_max_scaler = preprocessing.MinMaxScaler()\n",
    "np_scaled = min_max_scaler.fit_transform(X)\n",
    "\n",
    "# new data frame with the new scaled data.\n",
    "X = pd.DataFrame(np_scaled, columns = cols)\n",
    "\n",
    "X_train, X_test, y_train, y_test = train_test_split(X, y, test_size=0.20)"
   ],
   "metadata": {
    "collapsed": false,
    "pycharm": {
     "name": "#%%\n"
    }
   }
  },
  {
   "cell_type": "code",
   "execution_count": 4,
   "outputs": [
    {
     "name": "stdout",
     "output_type": "stream",
     "text": [
      "Name    Avg. Accuracy    Avg. Recall    Avg. Precision    Avg. f1\n",
      "------  ---------------  -------------  ----------------  ---------\n"
     ]
    }
   ],
   "source": [
    "models = [(\"Logistic Regression\", LogisticRegression()),\n",
    "          (\"Random Forest\", RandomForestClassifier()),\n",
    "          (\"K Neighbors\", KNeighborsClassifier()),\n",
    "          (\"Support Vector\",SVC()),\n",
    "          (\"Gaussian Naive Bayes\",GaussianNB()),\n",
    "          (\"XGBoost\", XGBClassifier()),\n",
    "          (\"Stochastic Gradient Descent \", SGDClassifier(max_iter=5000, random_state=0)),\n",
    "          (\"Decision Tree\", DecisionTreeClassifier()),\n",
    "          (\"XGBoost Random Forest\", XGBRFClassifier(objective= 'multi:softmax')),\n",
    "          (\"LinearDiscriminantAnalysis\", LinearDiscriminantAnalysis(solver='eigen', shrinkage='auto')),\n",
    "          (\"Gradient Boosting\", GradientBoostingClassifier()),\n",
    "          (\"Ada Boost\", AdaBoostClassifier()),\n",
    "          (\"Linear Support Vector\", LinearSVC(penalty='l1', dual=False, multi_class='crammer_singer', max_iter=1000000))]\n",
    "\n",
    "\n",
    "\n",
    "table = []\n",
    "scoring = [\"accuracy\", \"recall_macro\", \"precision_macro\", \"f1_macro\"]\n",
    "cv = KFold(n_splits=5,shuffle=True)\n",
    "\n",
    "def get_avgs(score_dict):\n",
    "    returnList = []\n",
    "    del score_dict['fit_time']\n",
    "    del score_dict['score_time']\n",
    "    for metric_name in score_dict.keys():\n",
    "        returnList.append(np.average(score_dict[metric_name]))\n",
    "    return returnList\n",
    "\n",
    "headers = [\"Name\",\"Avg. Accuracy\", \"Avg. Recall\", \"Avg. Precision\", \"Avg. f1\"]\n",
    "print(tabulate(table, headers = headers))\n"
   ],
   "metadata": {
    "collapsed": false,
    "pycharm": {
     "name": "#%%\n"
    }
   }
  },
  {
   "cell_type": "code",
   "execution_count": 5,
   "outputs": [
    {
     "name": "stdout",
     "output_type": "stream",
     "text": [
      "Accuracy : 0.0 \n",
      "\n"
     ]
    },
    {
     "data": {
      "text/plain": "<Figure size 1152x648 with 2 Axes>",
      "image/png": "[encoded data removed]"
     },
     "metadata": {
      "needs_background": "light"
     },
     "output_type": "display_data"
    }
   ],
   "source": [
    "target_names = [\"blues\", \"classical\", \"country\", \"disco\", \"hiphop\", \"jazz\", \"metal\", \"pop\", \"reggae\", \"rock\"]\n",
    "def print_conf_matrix(model, X_train, X_test, y_train, y_test):\n",
    "    model.fit(X_train, y_train)\n",
    "    preds = model.predict(X_test)\n",
    "\n",
    "    print('Accuracy', ':', round(accuracy_score(y_test, preds), 5), '\\n')\n",
    "\n",
    "    # Confusion Matrix\n",
    "    confusion_matr = confusion_matrix(y_test, preds) #normalize = 'true'\n",
    "    plt.figure(figsize = (16, 9))\n",
    "    sns.heatmap(confusion_matr, cmap=\"Blues\", annot=True, fmt='d',\n",
    "                xticklabels=target_names, yticklabels=target_names)\n",
    "    plt.show()\n",
    "\n",
    "print_conf_matrix(KNeighborsClassifier(),X_train,X_test,y_train,y_test)\n",
    "\n"
   ],
   "metadata": {
    "collapsed": false,
    "pycharm": {
     "name": "#%%\n"
    }
   }
  }
 ],
 "metadata": {
  "kernelspec": {
   "display_name": "Python 3",
   "language": "python",
   "name": "python3"
  },
  "language_info": {
   "codemirror_mode": {
    "name": "ipython",
    "version": 2
   },
   "file_extension": ".py",
   "mimetype": "text/x-python",
   "name": "python",
   "nbconvert_exporter": "python",
   "pygments_lexer": "ipython2",
   "version": "2.7.6"
  }
 },
 "nbformat": 4,
 "nbformat_minor": 0
}